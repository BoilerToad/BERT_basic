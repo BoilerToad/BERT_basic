{
  "nbformat": 4,
  "nbformat_minor": 0,
  "metadata": {
    "colab": {
      "name": "Colab_BERT_basic.ipynb",
      "provenance": [],
      "collapsed_sections": [],
      "include_colab_link": true
    },
    "kernelspec": {
      "name": "python3",
      "display_name": "Python 3"
    }
  },
  "cells": [
    {
      "cell_type": "markdown",
      "metadata": {
        "id": "view-in-github",
        "colab_type": "text"
      },
      "source": [
        "<a href=\"https://colab.research.google.com/github/BoilerToad/BERT_basic/blob/main/Colab_BERT_basic.ipynb\" target=\"_parent\"><img src=\"https://colab.research.google.com/assets/colab-badge.svg\" alt=\"Open In Colab\"/></a>"
      ]
    },
    {
      "cell_type": "code",
      "metadata": {
        "id": "SDuAwN8tUDrA"
      },
      "source": [
        "### Header code for colab notebooks"
      ],
      "execution_count": null,
      "outputs": []
    },
    {
      "cell_type": "code",
      "metadata": {
        "colab": {
          "base_uri": "https://localhost:8080/"
        },
        "id": "NRiK52qVBgWw",
        "outputId": "09e0b8ab-dc01-4721-a275-c0ba8b7378cd"
      },
      "source": [
        "# Mount Google Drive\n",
        "from google.colab import drive # import drive from google colab\n",
        "\n",
        "ROOT = \"/content/drive\"     # default location for the drive\n",
        "print(ROOT)                 # print content of ROOT (Optional)\n",
        "\n",
        "drive.mount(ROOT)           # we mount the google drive at /content/drive\n",
        "#drive.mount(\"/content/drive\", force_remount=True)"
      ],
      "execution_count": null,
      "outputs": [
        {
          "output_type": "stream",
          "name": "stdout",
          "text": [
            "/content/drive\n",
            "Mounted at /content/drive\n"
          ]
        }
      ]
    },
    {
      "cell_type": "code",
      "metadata": {
        "colab": {
          "base_uri": "https://localhost:8080/"
        },
        "id": "bJQBuN6LBirI",
        "outputId": "429f5c7c-8fa3-4141-c05c-e089c4a6124f"
      },
      "source": [
        "# Clone github repository setup\n",
        "# import join used to join ROOT path and MY_GOOGLE_DRIVE_PATH\n",
        "from os.path import join  \n",
        "\n",
        "# path to your project on Google Drive\n",
        "MY_GOOGLE_DRIVE_ROOT_PATH = \"/content/drive/My Drive/Colab Notebooks\"\n",
        "# replace with your Github username \n",
        "GIT_USERNAME = \"BoilerToad\" \n",
        "# definitely replace with your\n",
        "GIT_TOKEN = \"1664e3d5c3bbf4630a6ca516b2473785c2d6842a\"  \n",
        "# Replace with your github repository in this case we want \n",
        "# to clone Fine-Tuning_BERT repository\n",
        "GIT_REPOSITORY = \"BERT_basic\" \n",
        "\n",
        "MY_GOOGLE_DRIVE_PATH = join(MY_GOOGLE_DRIVE_ROOT_PATH, GIT_REPOSITORY)\n",
        "PROJECT_PATH = join(ROOT, MY_GOOGLE_DRIVE_PATH)\n",
        "\n",
        "# It's good to print out the value if you are not sure \n",
        "print(\"PROJECT_PATH: \", PROJECT_PATH)   \n",
        "\n",
        "# In case we haven't created the folder already; we will create a folder in the project path \n",
        "!mkdir \"{PROJECT_PATH}\"    \n",
        "\n",
        "#GIT_PATH = \"https://{GIT_TOKEN}@github.com/{GIT_USERNAME}/{GIT_REPOSITORY}.git\" # this return 400 Bad Request for me\n",
        "GIT_PATH = \"https://\" + GIT_TOKEN + \"@github.com/\" + GIT_USERNAME + \"/\" + GIT_REPOSITORY + \".git\"\n",
        "print(\"GIT_PATH: \", GIT_PATH)"
      ],
      "execution_count": null,
      "outputs": [
        {
          "output_type": "stream",
          "name": "stdout",
          "text": [
            "PROJECT_PATH:  /content/drive/My Drive/ColabNotebooks/Fine-Tuning-BERT\n",
            "mkdir: cannot create directory ‘/content/drive/My Drive/ColabNotebooks/Fine-Tuning-BERT’: File exists\n",
            "GIT_PATH:  https://1664e3d5c3bbf4630a6ca516b2473785c2d6842a@github.com/BoilerToad/Fine-Tuning-BERT.git\n"
          ]
        }
      ]
    },
    {
      "cell_type": "code",
      "metadata": {
        "colab": {
          "base_uri": "https://localhost:8080/"
        },
        "id": "FemHK_aKMVLh",
        "outputId": "ade76746-252b-42e4-8ab6-d1e0d15e570b"
      },
      "source": [
        "%cd \"/content/drive/My Drive/Colab Notebooks\""
      ],
      "execution_count": null,
      "outputs": [
        {
          "output_type": "stream",
          "name": "stdout",
          "text": [
            "/content/drive/My Drive/ColabNotebooks\n"
          ]
        }
      ]
    },
    {
      "cell_type": "code",
      "metadata": {
        "colab": {
          "base_uri": "https://localhost:8080/"
        },
        "id": "m03KnQLrKEFL",
        "outputId": "e6ab3db2-84c3-4e78-d289-ac91c210263c"
      },
      "source": [
        "! git clone \"{GIT_PATH}\""
      ],
      "execution_count": null,
      "outputs": [
        {
          "output_type": "stream",
          "name": "stdout",
          "text": [
            "fatal: destination path 'Fine-Tuning-BERT' already exists and is not an empty directory.\n"
          ]
        }
      ]
    },
    {
      "cell_type": "code",
      "metadata": {
        "colab": {
          "base_uri": "https://localhost:8080/"
        },
        "id": "27Ogpr3TLgrp",
        "outputId": "40bcbe5e-cf89-41fe-c2ef-9c7861c1a314"
      },
      "source": [
        "%cd \"{PROJECT_PATH}\"\n",
        "\n",
        "%ls -l"
      ],
      "execution_count": null,
      "outputs": [
        {
          "output_type": "stream",
          "name": "stdout",
          "text": [
            "/content/drive/My Drive/ColabNotebooks/Fine-Tuning-BERT\n",
            "total 555\n",
            "-rw------- 1 root root  87689 Oct 23 22:15 Fine_Tuning_BERT_for_Spam_Classification.ipynb\n",
            "-rw------- 1 root root  11357 Oct 23 22:15 LICENSE\n",
            "-rw------- 1 root root    110 Oct 23 22:15 README.md\n",
            "-rw------- 1 root root 467438 Oct 23 22:15 spamdata_v2.csv\n"
          ]
        }
      ]
    },
    {
      "cell_type": "code",
      "metadata": {
        "id": "9f6ysmhQCSSy"
      },
      "source": [
        "# Code for utilizing a GPU\n",
        "\n",
        "#gpu_info = !nvidia-smi\n",
        "#gpu_info = '\\n'.join(gpu_info)\n",
        "#if gpu_info.find('failed') >= 0:\n",
        "#  print('Select the Runtime > \"Change runtime type\" menu to enable a GPU accelerator, ')\n",
        "#  print('and then re-execute this cell.')\n",
        "#else:\n",
        "#  print(gpu_info)"
      ],
      "execution_count": null,
      "outputs": []
    }
  ]
}