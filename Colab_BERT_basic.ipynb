{
  "nbformat": 4,
  "nbformat_minor": 0,
  "metadata": {
    "colab": {
      "name": "Colab_BERT_basic.ipynb",
      "provenance": [],
      "collapsed_sections": [],
      "include_colab_link": true
    },
    "kernelspec": {
      "name": "python3",
      "display_name": "Python 3"
    }
  },
  "cells": [
    {
      "cell_type": "markdown",
      "metadata": {
        "id": "view-in-github",
        "colab_type": "text"
      },
      "source": [
        "<a href=\"https://colab.research.google.com/github/BoilerToad/BERT_basic/blob/main/Colab_BERT_basic.ipynb\" target=\"_parent\"><img src=\"https://colab.research.google.com/assets/colab-badge.svg\" alt=\"Open In Colab\"/></a>"
      ]
    },
    {
      "cell_type": "code",
      "metadata": {
        "id": "SDuAwN8tUDrA"
      },
      "source": [
        "### Header code for colab notebooks"
      ],
      "execution_count": 1,
      "outputs": []
    },
    {
      "cell_type": "code",
      "metadata": {
        "colab": {
          "base_uri": "https://localhost:8080/"
        },
        "id": "NRiK52qVBgWw",
        "outputId": "aefe2225-11a8-4bfd-e77e-d8c5ce299941"
      },
      "source": [
        "# Mount Google Drive\n",
        "from google.colab import drive # import drive from google colab\n",
        "\n",
        "ROOT = \"/content/drive\"     # default location for the drive\n",
        "print(ROOT)                 # print content of ROOT (Optional)\n",
        "\n",
        "drive.mount(ROOT)           # we mount the google drive at /content/drive\n",
        "#drive.mount(\"/content/drive\", force_remount=True)"
      ],
      "execution_count": 2,
      "outputs": [
        {
          "output_type": "stream",
          "name": "stdout",
          "text": [
            "/content/drive\n",
            "Drive already mounted at /content/drive; to attempt to forcibly remount, call drive.mount(\"/content/drive\", force_remount=True).\n"
          ]
        }
      ]
    },
    {
      "cell_type": "code",
      "metadata": {
        "colab": {
          "base_uri": "https://localhost:8080/"
        },
        "id": "bJQBuN6LBirI",
        "outputId": "6106bcf6-0eb2-42e7-beea-13536757a490"
      },
      "source": [
        "# Clone github repository setup\n",
        "# import join used to join ROOT path and MY_GOOGLE_DRIVE_PATH\n",
        "from os.path import join  \n",
        "\n",
        "# path to your project on Google Drive\n",
        "MY_GOOGLE_DRIVE_ROOT_PATH = \"/content/drive/My Drive/Colab Notebooks\"\n",
        "# replace with your Github username \n",
        "GIT_USERNAME = \"BoilerToad\" \n",
        "# definitely replace with your\n",
        "GIT_TOKEN = \"1664e3d5c3bbf4630a6ca516b2473785c2d6842a\"  \n",
        "# Replace with your github repository in this case we want \n",
        "# to clone Fine-Tuning_BERT repository\n",
        "GIT_REPOSITORY = \"BERT_basic\" \n",
        "\n",
        "MY_GOOGLE_DRIVE_PATH = join(MY_GOOGLE_DRIVE_ROOT_PATH, GIT_REPOSITORY)\n",
        "PROJECT_PATH = join(ROOT, MY_GOOGLE_DRIVE_PATH)\n",
        "\n",
        "# It's good to print out the value if you are not sure \n",
        "print(\"PROJECT_PATH: \", PROJECT_PATH)   \n",
        "\n",
        "# In case we haven't created the folder already; we will create a folder in the project path \n",
        "!mkdir \"{PROJECT_PATH}\"    \n",
        "\n",
        "#GIT_PATH = \"https://{GIT_TOKEN}@github.com/{GIT_USERNAME}/{GIT_REPOSITORY}.git\" # this return 400 Bad Request for me\n",
        "GIT_PATH = \"https://\" + GIT_TOKEN + \"@github.com/\" + GIT_USERNAME + \"/\" + GIT_REPOSITORY + \".git\"\n",
        "print(\"GIT_PATH: \", GIT_PATH)"
      ],
      "execution_count": 3,
      "outputs": [
        {
          "output_type": "stream",
          "name": "stdout",
          "text": [
            "PROJECT_PATH:  /content/drive/My Drive/Colab Notebooks/BERT_basic\n",
            "mkdir: cannot create directory ‘/content/drive/My Drive/Colab Notebooks/BERT_basic’: File exists\n",
            "GIT_PATH:  https://1664e3d5c3bbf4630a6ca516b2473785c2d6842a@github.com/BoilerToad/BERT_basic.git\n"
          ]
        }
      ]
    },
    {
      "cell_type": "code",
      "metadata": {
        "colab": {
          "base_uri": "https://localhost:8080/"
        },
        "id": "FemHK_aKMVLh",
        "outputId": "9e65e354-593a-4831-c9e3-7376f23cd22e"
      },
      "source": [
        "%cd \"/content/drive/My Drive/Colab Notebooks\""
      ],
      "execution_count": 4,
      "outputs": [
        {
          "output_type": "stream",
          "name": "stdout",
          "text": [
            "/content/drive/My Drive/Colab Notebooks\n"
          ]
        }
      ]
    },
    {
      "cell_type": "code",
      "metadata": {
        "colab": {
          "base_uri": "https://localhost:8080/"
        },
        "id": "m03KnQLrKEFL",
        "outputId": "cdb2327e-b731-4038-a332-f0fadde31c54"
      },
      "source": [
        "! git clone \"{GIT_PATH}\""
      ],
      "execution_count": 5,
      "outputs": [
        {
          "output_type": "stream",
          "name": "stdout",
          "text": [
            "fatal: destination path 'BERT_basic' already exists and is not an empty directory.\n"
          ]
        }
      ]
    },
    {
      "cell_type": "code",
      "metadata": {
        "colab": {
          "base_uri": "https://localhost:8080/"
        },
        "id": "27Ogpr3TLgrp",
        "outputId": "df238fd9-ed6d-4dca-af85-6b1576c1155d"
      },
      "source": [
        "%cd \"{PROJECT_PATH}\"\n",
        "\n",
        "%ls -l"
      ],
      "execution_count": 19,
      "outputs": [
        {
          "output_type": "stream",
          "name": "stdout",
          "text": [
            "/content/drive/My Drive/Colab Notebooks/BERT_basic\n",
            "total 135\n",
            "-rw------- 1 root root  6731 Oct 24 02:59 Colab_BERT_basic.ipynb\n",
            "-rw------- 1 root root 95159 Oct 23 20:45 df_topic_key_point_argument_label_dev.parquet\n",
            "-rw------- 1 root root 35149 Oct 24 02:59 LICENSE\n",
            "-rw------- 1 root root    64 Oct 24 02:59 README.md\n"
          ]
        }
      ]
    },
    {
      "cell_type": "code",
      "metadata": {
        "colab": {
          "base_uri": "https://localhost:8080/"
        },
        "id": "adCBpR1ePhYA",
        "outputId": "14e76724-c6a8-4b45-d3f3-0a4a0093c8bc"
      },
      "source": [
        "# Code for utilizing a GPU\n",
        "\n",
        "gpu_info = !nvidia-smi\n",
        "gpu_info = '\\n'.join(gpu_info)\n",
        "if gpu_info.find('failed') >= 0:\n",
        "  print('Select the Runtime > \"Change runtime type\" menu to enable a GPU accelerator, ')\n",
        "  print('and then re-execute this cell.')\n",
        "else:\n",
        "  print(gpu_info)"
      ],
      "execution_count": 7,
      "outputs": [
        {
          "output_type": "stream",
          "name": "stdout",
          "text": [
            "Select the Runtime > \"Change runtime type\" menu to enable a GPU accelerator, \n",
            "and then re-execute this cell.\n"
          ]
        }
      ]
    },
    {
      "cell_type": "code",
      "metadata": {
        "colab": {
          "base_uri": "https://localhost:8080/"
        },
        "id": "znp9cwLJVzo6",
        "outputId": "92667b06-7097-44dc-c382-1d6fa999ad8e"
      },
      "source": [
        "!pip install transformers"
      ],
      "execution_count": 8,
      "outputs": [
        {
          "output_type": "stream",
          "name": "stdout",
          "text": [
            "Requirement already satisfied: transformers in /usr/local/lib/python3.7/dist-packages (4.11.3)\n",
            "Requirement already satisfied: tokenizers<0.11,>=0.10.1 in /usr/local/lib/python3.7/dist-packages (from transformers) (0.10.3)\n",
            "Requirement already satisfied: importlib-metadata in /usr/local/lib/python3.7/dist-packages (from transformers) (4.8.1)\n",
            "Requirement already satisfied: huggingface-hub>=0.0.17 in /usr/local/lib/python3.7/dist-packages (from transformers) (0.0.19)\n",
            "Requirement already satisfied: sacremoses in /usr/local/lib/python3.7/dist-packages (from transformers) (0.0.46)\n",
            "Requirement already satisfied: regex!=2019.12.17 in /usr/local/lib/python3.7/dist-packages (from transformers) (2019.12.20)\n",
            "Requirement already satisfied: tqdm>=4.27 in /usr/local/lib/python3.7/dist-packages (from transformers) (4.62.3)\n",
            "Requirement already satisfied: numpy>=1.17 in /usr/local/lib/python3.7/dist-packages (from transformers) (1.19.5)\n",
            "Requirement already satisfied: filelock in /usr/local/lib/python3.7/dist-packages (from transformers) (3.3.0)\n",
            "Requirement already satisfied: requests in /usr/local/lib/python3.7/dist-packages (from transformers) (2.23.0)\n",
            "Requirement already satisfied: pyyaml>=5.1 in /usr/local/lib/python3.7/dist-packages (from transformers) (6.0)\n",
            "Requirement already satisfied: packaging>=20.0 in /usr/local/lib/python3.7/dist-packages (from transformers) (21.0)\n",
            "Requirement already satisfied: typing-extensions in /usr/local/lib/python3.7/dist-packages (from huggingface-hub>=0.0.17->transformers) (3.7.4.3)\n",
            "Requirement already satisfied: pyparsing>=2.0.2 in /usr/local/lib/python3.7/dist-packages (from packaging>=20.0->transformers) (2.4.7)\n",
            "Requirement already satisfied: zipp>=0.5 in /usr/local/lib/python3.7/dist-packages (from importlib-metadata->transformers) (3.6.0)\n",
            "Requirement already satisfied: urllib3!=1.25.0,!=1.25.1,<1.26,>=1.21.1 in /usr/local/lib/python3.7/dist-packages (from requests->transformers) (1.24.3)\n",
            "Requirement already satisfied: idna<3,>=2.5 in /usr/local/lib/python3.7/dist-packages (from requests->transformers) (2.10)\n",
            "Requirement already satisfied: chardet<4,>=3.0.2 in /usr/local/lib/python3.7/dist-packages (from requests->transformers) (3.0.4)\n",
            "Requirement already satisfied: certifi>=2017.4.17 in /usr/local/lib/python3.7/dist-packages (from requests->transformers) (2021.5.30)\n",
            "Requirement already satisfied: click in /usr/local/lib/python3.7/dist-packages (from sacremoses->transformers) (7.1.2)\n",
            "Requirement already satisfied: six in /usr/local/lib/python3.7/dist-packages (from sacremoses->transformers) (1.15.0)\n",
            "Requirement already satisfied: joblib in /usr/local/lib/python3.7/dist-packages (from sacremoses->transformers) (1.0.1)\n"
          ]
        }
      ]
    },
    {
      "cell_type": "code",
      "metadata": {
        "id": "KfgWs2HcrDvI"
      },
      "source": [
        "import torch\n",
        "import scipy\n",
        "\n",
        "from transformers import BertTokenizer, BertModel\n",
        "\n",
        "import matplotlib.pyplot as plt\n",
        "% matplotlib inline\n",
        "\n",
        "import numpy as np\n",
        "import pandas as pd\n",
        "\n",
        "import pyarrow as pa\n",
        "import pyarrow.parquet as pq"
      ],
      "execution_count": 20,
      "outputs": []
    },
    {
      "cell_type": "code",
      "metadata": {
        "colab": {
          "base_uri": "https://localhost:8080/"
        },
        "id": "rNjLl9nhPhgP",
        "outputId": "412cf6fd-33d0-4d9b-80e4-ad8b910badfc"
      },
      "source": [
        "# Load BERT pre-trained model\n",
        "model_BERT = BertModel.from_pretrained( 'bert-base-uncased', output_hidden_states = True )\n",
        "\n",
        "# Put the model in evaluation mode aka feed-forward operation\n",
        "model_BERT.eval()\n",
        "\n",
        "# Load the BERT tokenizer\n",
        "tokenizer_BERT = BertTokenizer.from_pretrained('bert-base-uncased')"
      ],
      "execution_count": 45,
      "outputs": [
        {
          "output_type": "stream",
          "name": "stderr",
          "text": [
            "Some weights of the model checkpoint at bert-base-uncased were not used when initializing BertModel: ['cls.predictions.bias', 'cls.seq_relationship.weight', 'cls.predictions.transform.LayerNorm.weight', 'cls.predictions.transform.dense.bias', 'cls.seq_relationship.bias', 'cls.predictions.transform.dense.weight', 'cls.predictions.decoder.weight', 'cls.predictions.transform.LayerNorm.bias']\n",
            "- This IS expected if you are initializing BertModel from the checkpoint of a model trained on another task or with another architecture (e.g. initializing a BertForSequenceClassification model from a BertForPreTraining model).\n",
            "- This IS NOT expected if you are initializing BertModel from the checkpoint of a model that you expect to be exactly identical (initializing a BertForSequenceClassification model from a BertForSequenceClassification model).\n"
          ]
        }
      ]
    },
    {
      "cell_type": "markdown",
      "metadata": {
        "id": "k7qEZ1QkRkNE"
      },
      "source": [
        "Reference for the follwing example ... https://mccormickml.com/2019/05/14/BERT-word-embeddings-tutorial/"
      ]
    },
    {
      "cell_type": "code",
      "metadata": {
        "colab": {
          "base_uri": "https://localhost:8080/"
        },
        "id": "AoxEQ-dw0AXy",
        "outputId": "4261cce0-7f87-4310-99a5-6d3289b2a22b"
      },
      "source": [
        "#text = \"Here is the sentence I want embeddings for.\"\n",
        "text = \"A real education is about giving students the tools to learn, think, and express themselves; dictating to them what to wear sends a strong message that we don't trust them to think on their own.\"\n",
        "marked_text = \"[CLS] \" + text + \" [SEP]\"\n",
        "\n",
        "# Tokenize our sentence with the BERT tokenizer.\n",
        "tokenized_text = tokenizer_BERT.tokenize(marked_text)\n",
        "\n",
        "# Map the token strings to their vocabulary indeces.\n",
        "indexed_tokens = tokenizer_BERT.convert_tokens_to_ids(tokenized_text)\n",
        "\n",
        "# Display the words with their indeces.\n",
        "for tup in zip(tokenized_text, indexed_tokens):\n",
        "    print('{:<12} {:>6,}'.format(tup[0], tup[1]))"
      ],
      "execution_count": 54,
      "outputs": [
        {
          "output_type": "stream",
          "name": "stdout",
          "text": [
            "[CLS]           101\n",
            "a             1,037\n",
            "real          2,613\n",
            "education     2,495\n",
            "is            2,003\n",
            "about         2,055\n",
            "giving        3,228\n",
            "students      2,493\n",
            "the           1,996\n",
            "tools         5,906\n",
            "to            2,000\n",
            "learn         4,553\n",
            ",             1,010\n",
            "think         2,228\n",
            ",             1,010\n",
            "and           1,998\n",
            "express       4,671\n",
            "themselves    3,209\n",
            ";             1,025\n",
            "di            4,487\n",
            "##cta        25,572\n",
            "##ting        3,436\n",
            "to            2,000\n",
            "them          2,068\n",
            "what          2,054\n",
            "to            2,000\n",
            "wear          4,929\n",
            "sends        10,255\n",
            "a             1,037\n",
            "strong        2,844\n",
            "message       4,471\n",
            "that          2,008\n",
            "we            2,057\n",
            "don           2,123\n",
            "'             1,005\n",
            "t             1,056\n",
            "trust         3,404\n",
            "them          2,068\n",
            "to            2,000\n",
            "think         2,228\n",
            "on            2,006\n",
            "their         2,037\n",
            "own           2,219\n",
            ".             1,012\n",
            "[SEP]           102\n"
          ]
        }
      ]
    },
    {
      "cell_type": "code",
      "metadata": {
        "id": "jdoOMkXa0Aa2"
      },
      "source": [
        "# As BERT is trained on sentence paris ... need to add 1's and 0's to distinguish which sentence each token belongs to \n",
        "\n",
        "#. In this case, we only have 1 sentence\n",
        "segments_ids = [1] * len(tokenized_text)\n",
        "\n",
        "tokens_tensor = torch.tensor([indexed_tokens])\n",
        "segments_tensors = torch.tensor([segments_ids])"
      ],
      "execution_count": 55,
      "outputs": []
    },
    {
      "cell_type": "code",
      "metadata": {
        "id": "9ftLlToI-Adw"
      },
      "source": [
        "# Run the text through BERT, and collect all of the hidden states produced from all 12 layers. \n",
        "with torch.no_grad():\n",
        "  outputs = model_BERT(tokens_tensor, segments_tensors)\n",
        "\n",
        "# Evaluating the model will return a different number of objects based on \n",
        "# how it's  configured in the `from_pretrained` call earlier. In this case, \n",
        "# becase we set `output_hidden_states = True`, the third item will be the \n",
        "# hidden states from all layers. See the documentation for more details:\n",
        "# https://huggingface.co/transformers/model_doc/bert.html#bertmodel\n",
        "\n",
        "  hidden_states = outputs[2]"
      ],
      "execution_count": 56,
      "outputs": []
    },
    {
      "cell_type": "code",
      "metadata": {
        "colab": {
          "base_uri": "https://localhost:8080/"
        },
        "id": "aQxXNV4n-AgV",
        "outputId": "34a9a354-15cb-4bf4-d085-7b0206884e1f"
      },
      "source": [
        "print (\"Number of layers:\", len(hidden_states), \"  (initial embeddings + 12 BERT layers)\")\n",
        "\n",
        "layer_i = 0\n",
        "print (\"Number of batches:\", len(hidden_states[layer_i]))\n",
        "\n",
        "batch_i = 0\n",
        "print (\"Number of tokens:\", len(hidden_states[layer_i][batch_i]))\n",
        "\n",
        "token_i = 0\n",
        "print (\"Number of hidden units:\", len(hidden_states[layer_i][batch_i][token_i]))\n"
      ],
      "execution_count": 57,
      "outputs": [
        {
          "output_type": "stream",
          "name": "stdout",
          "text": [
            "Number of layers: 13   (initial embeddings + 12 BERT layers)\n",
            "Number of batches: 1\n",
            "Number of tokens: 45\n",
            "Number of hidden units: 768\n"
          ]
        }
      ]
    },
    {
      "cell_type": "code",
      "metadata": {
        "colab": {
          "base_uri": "https://localhost:8080/"
        },
        "id": "N-7bm0cbN15j",
        "outputId": "6406a526-aff0-463f-bd5b-96ba38f774b2"
      },
      "source": [
        "# `hidden_states` is a Python list.\n",
        "print('      Type of hidden_states: ', type(hidden_states))\n",
        "\n",
        "# Each layer in the list is a torch tensor.\n",
        "print('Tensor shape for each layer: ', hidden_states[0].size())"
      ],
      "execution_count": 58,
      "outputs": [
        {
          "output_type": "stream",
          "name": "stdout",
          "text": [
            "      Type of hidden_states:  <class 'tuple'>\n",
            "Tensor shape for each layer:  torch.Size([1, 45, 768])\n"
          ]
        }
      ]
    },
    {
      "cell_type": "code",
      "metadata": {
        "colab": {
          "base_uri": "https://localhost:8080/"
        },
        "id": "rGtYufNRN18t",
        "outputId": "721c5cf9-c17b-4ce8-906c-c4b40c11f1b6"
      },
      "source": [
        "# Concatenate the tensors for all layers. We use `stack` here to\n",
        "# create a new dimension in the tensor.\n",
        "token_embeddings = torch.stack(hidden_states, dim=0)\n",
        "\n",
        "token_embeddings.size()"
      ],
      "execution_count": 59,
      "outputs": [
        {
          "output_type": "execute_result",
          "data": {
            "text/plain": [
              "torch.Size([13, 1, 45, 768])"
            ]
          },
          "metadata": {},
          "execution_count": 59
        }
      ]
    },
    {
      "cell_type": "code",
      "metadata": {
        "colab": {
          "base_uri": "https://localhost:8080/"
        },
        "id": "kOcYQHCRN1_X",
        "outputId": "757b16a4-8a19-42b5-876d-cb3c91c932a5"
      },
      "source": [
        "# Remove dimension 1, the \"batches\".\n",
        "token_embeddings = torch.squeeze(token_embeddings, dim=1)\n",
        "\n",
        "token_embeddings.size()"
      ],
      "execution_count": 60,
      "outputs": [
        {
          "output_type": "execute_result",
          "data": {
            "text/plain": [
              "torch.Size([13, 45, 768])"
            ]
          },
          "metadata": {},
          "execution_count": 60
        }
      ]
    },
    {
      "cell_type": "code",
      "metadata": {
        "colab": {
          "base_uri": "https://localhost:8080/"
        },
        "id": "s5BmIv3qPN60",
        "outputId": "2671e0d4-6ba5-48e7-dbf9-7c1ad6ec349b"
      },
      "source": [
        "# Swap dimensions 0 and 1.\n",
        "token_embeddings = token_embeddings.permute(1,0,2)\n",
        "\n",
        "token_embeddings.size()"
      ],
      "execution_count": 61,
      "outputs": [
        {
          "output_type": "execute_result",
          "data": {
            "text/plain": [
              "torch.Size([45, 13, 768])"
            ]
          },
          "metadata": {},
          "execution_count": 61
        }
      ]
    },
    {
      "cell_type": "code",
      "metadata": {
        "colab": {
          "base_uri": "https://localhost:8080/"
        },
        "id": "ld_NQo0HPN-B",
        "outputId": "cfaac8b2-bbec-416d-bcbd-3544a73adf76"
      },
      "source": [
        "# Stores the token vectors, with shape [45 x 3,072]\n",
        "token_vecs_cat = []\n",
        "\n",
        "# `token_embeddings` is a [45 x 12 x 768] tensor.\n",
        "\n",
        "# For each token in the sentence...\n",
        "for token in token_embeddings:\n",
        "    \n",
        "    # `token` is a [12 x 768] tensor\n",
        "\n",
        "    # Concatenate the vectors (that is, append them together) from the last \n",
        "    # four layers.\n",
        "    # Each layer vector is 768 values, so `cat_vec` is length 3,072.\n",
        "    cat_vec = torch.cat((token[-1], token[-2], token[-3], token[-4]), dim=0)\n",
        "    \n",
        "    # Use `cat_vec` to represent `token`.\n",
        "    token_vecs_cat.append(cat_vec)\n",
        "\n",
        "print ('Shape is: %d x %d' % (len(token_vecs_cat), len(token_vecs_cat[0])))"
      ],
      "execution_count": 62,
      "outputs": [
        {
          "output_type": "stream",
          "name": "stdout",
          "text": [
            "Shape is: 45 x 3072\n"
          ]
        }
      ]
    },
    {
      "cell_type": "code",
      "metadata": {
        "colab": {
          "base_uri": "https://localhost:8080/"
        },
        "id": "6j2wtuQDN2DG",
        "outputId": "5dfc5004-c200-491a-b9ec-85a75ec5d62d"
      },
      "source": [
        "# Stores the token vectors, with shape [45 x 768]\n",
        "token_vecs_sum = []\n",
        "\n",
        "# `token_embeddings` is a [45 x 12 x 768] tensor.\n",
        "\n",
        "# For each token in the sentence...\n",
        "for token in token_embeddings:\n",
        "\n",
        "    # `token` is a [12 x 768] tensor\n",
        "\n",
        "    # Sum the vectors from the last four layers.\n",
        "    sum_vec = torch.sum(token[-4:], dim=0)\n",
        "    \n",
        "    # Use `sum_vec` to represent `token`.\n",
        "    token_vecs_sum.append(sum_vec)\n",
        "\n",
        "print ('Shape is: %d x %d' % (len(token_vecs_sum), len(token_vecs_sum[0])))"
      ],
      "execution_count": 63,
      "outputs": [
        {
          "output_type": "stream",
          "name": "stdout",
          "text": [
            "Shape is: 45 x 768\n"
          ]
        }
      ]
    },
    {
      "cell_type": "code",
      "metadata": {
        "colab": {
          "base_uri": "https://localhost:8080/"
        },
        "id": "d1ghmJmqN2FO",
        "outputId": "48daab40-8292-426c-ba2f-0a1cf78b6668"
      },
      "source": [
        "#  Average the second to last hidden layer of each token\n",
        "\n",
        "# `hidden_states` has shape [13 x 1 x 22 x 768]\n",
        "\n",
        "# `token_vecs` is a tensor with shape [22 x 768]\n",
        "token_vecs = hidden_states[-2][0]\n",
        "\n",
        "# Calculate the average of all 22 token vectors.\n",
        "sentence_embedding = torch.mean(token_vecs, dim=0)\n",
        "\n",
        "print (\"Our final sentence embedding vector of shape:\", sentence_embedding.size())"
      ],
      "execution_count": 65,
      "outputs": [
        {
          "output_type": "stream",
          "name": "stdout",
          "text": [
            "Our final sentence embedding vector of shape: torch.Size([768])\n"
          ]
        }
      ]
    },
    {
      "cell_type": "code",
      "metadata": {
        "id": "cYUe-E6HPjs5"
      },
      "source": [
        ""
      ],
      "execution_count": null,
      "outputs": []
    },
    {
      "cell_type": "code",
      "metadata": {
        "id": "ukgYUvW3PjwQ"
      },
      "source": [
        ""
      ],
      "execution_count": null,
      "outputs": []
    },
    {
      "cell_type": "code",
      "metadata": {
        "id": "GqJ9GyCGN2J4"
      },
      "source": [
        ""
      ],
      "execution_count": null,
      "outputs": []
    },
    {
      "cell_type": "code",
      "metadata": {
        "id": "rpHRC1Nu-mbt"
      },
      "source": [
        ""
      ],
      "execution_count": 14,
      "outputs": []
    },
    {
      "cell_type": "code",
      "metadata": {
        "id": "OtfciZ4J_Aoi"
      },
      "source": [
        "table = pq.read_table( ('df_topic_key_point_argument_label_dev.parquet') )\n",
        "\n",
        "df_topic_key_point_argument_label = table.to_pandas()"
      ],
      "execution_count": 21,
      "outputs": []
    },
    {
      "cell_type": "code",
      "metadata": {
        "colab": {
          "base_uri": "https://localhost:8080/",
          "height": 419
        },
        "id": "DEhPWPzp_AsE",
        "outputId": "7f398419-7514-4f27-da89-692f9dc8fe05"
      },
      "source": [
        "df_topic_key_point_argument_label\n"
      ],
      "execution_count": 23,
      "outputs": [
        {
          "output_type": "execute_result",
          "data": {
            "text/html": [
              "<div>\n",
              "<style scoped>\n",
              "    .dataframe tbody tr th:only-of-type {\n",
              "        vertical-align: middle;\n",
              "    }\n",
              "\n",
              "    .dataframe tbody tr th {\n",
              "        vertical-align: top;\n",
              "    }\n",
              "\n",
              "    .dataframe thead th {\n",
              "        text-align: right;\n",
              "    }\n",
              "</style>\n",
              "<table border=\"1\" class=\"dataframe\">\n",
              "  <thead>\n",
              "    <tr style=\"text-align: right;\">\n",
              "      <th></th>\n",
              "      <th>topic</th>\n",
              "      <th>stance</th>\n",
              "      <th>arg_id</th>\n",
              "      <th>argument</th>\n",
              "      <th>key_point_id</th>\n",
              "      <th>key_point</th>\n",
              "      <th>label</th>\n",
              "    </tr>\n",
              "  </thead>\n",
              "  <tbody>\n",
              "    <tr>\n",
              "      <th>0</th>\n",
              "      <td>We should abandon the use of school uniform</td>\n",
              "      <td>1</td>\n",
              "      <td>arg_4_121</td>\n",
              "      <td>A real education is about giving students the ...</td>\n",
              "      <td>kp_4_5</td>\n",
              "      <td>School uniform is harming the student's self e...</td>\n",
              "      <td>1.0</td>\n",
              "    </tr>\n",
              "    <tr>\n",
              "      <th>1</th>\n",
              "      <td>We should abandon the use of school uniform</td>\n",
              "      <td>1</td>\n",
              "      <td>arg_4_121</td>\n",
              "      <td>A real education is about giving students the ...</td>\n",
              "      <td>kp_4_6</td>\n",
              "      <td>School uniforms are expensive</td>\n",
              "      <td>0.0</td>\n",
              "    </tr>\n",
              "    <tr>\n",
              "      <th>2</th>\n",
              "      <td>We should abandon the use of school uniform</td>\n",
              "      <td>1</td>\n",
              "      <td>arg_4_121</td>\n",
              "      <td>A real education is about giving students the ...</td>\n",
              "      <td>kp_4_7</td>\n",
              "      <td>School uniforms are often uncomfortable/sexist</td>\n",
              "      <td>0.0</td>\n",
              "    </tr>\n",
              "    <tr>\n",
              "      <th>3</th>\n",
              "      <td>We should abandon the use of school uniform</td>\n",
              "      <td>1</td>\n",
              "      <td>arg_4_121</td>\n",
              "      <td>A real education is about giving students the ...</td>\n",
              "      <td>kp_4_8</td>\n",
              "      <td>School uniform harms learning/creativity</td>\n",
              "      <td>NaN</td>\n",
              "    </tr>\n",
              "    <tr>\n",
              "      <th>4</th>\n",
              "      <td>We should abandon the use of school uniform</td>\n",
              "      <td>1</td>\n",
              "      <td>arg_4_121</td>\n",
              "      <td>A real education is about giving students the ...</td>\n",
              "      <td>kp_4_9</td>\n",
              "      <td>School uniforms increase conformity or harm in...</td>\n",
              "      <td>NaN</td>\n",
              "    </tr>\n",
              "    <tr>\n",
              "      <th>...</th>\n",
              "      <td>...</td>\n",
              "      <td>...</td>\n",
              "      <td>...</td>\n",
              "      <td>...</td>\n",
              "      <td>...</td>\n",
              "      <td>...</td>\n",
              "      <td>...</td>\n",
              "    </tr>\n",
              "    <tr>\n",
              "      <th>4206</th>\n",
              "      <td>We should end affirmative action</td>\n",
              "      <td>-1</td>\n",
              "      <td>arg_15_106</td>\n",
              "      <td>we shouldn't end affirmative action because ra...</td>\n",
              "      <td>kp_15_1</td>\n",
              "      <td>Affirmative action is necessary to compensate ...</td>\n",
              "      <td>NaN</td>\n",
              "    </tr>\n",
              "    <tr>\n",
              "      <th>4207</th>\n",
              "      <td>We should end affirmative action</td>\n",
              "      <td>-1</td>\n",
              "      <td>arg_15_106</td>\n",
              "      <td>we shouldn't end affirmative action because ra...</td>\n",
              "      <td>kp_15_2</td>\n",
              "      <td>Affirmative action reduces discrimination</td>\n",
              "      <td>1.0</td>\n",
              "    </tr>\n",
              "    <tr>\n",
              "      <th>4208</th>\n",
              "      <td>We should end affirmative action</td>\n",
              "      <td>-1</td>\n",
              "      <td>arg_15_107</td>\n",
              "      <td>While on the surface diversity may be increasi...</td>\n",
              "      <td>kp_15_0</td>\n",
              "      <td>Affirmative action boosts diversity</td>\n",
              "      <td>NaN</td>\n",
              "    </tr>\n",
              "    <tr>\n",
              "      <th>4209</th>\n",
              "      <td>We should end affirmative action</td>\n",
              "      <td>-1</td>\n",
              "      <td>arg_15_107</td>\n",
              "      <td>While on the surface diversity may be increasi...</td>\n",
              "      <td>kp_15_1</td>\n",
              "      <td>Affirmative action is necessary to compensate ...</td>\n",
              "      <td>0.0</td>\n",
              "    </tr>\n",
              "    <tr>\n",
              "      <th>4210</th>\n",
              "      <td>We should end affirmative action</td>\n",
              "      <td>-1</td>\n",
              "      <td>arg_15_107</td>\n",
              "      <td>While on the surface diversity may be increasi...</td>\n",
              "      <td>kp_15_2</td>\n",
              "      <td>Affirmative action reduces discrimination</td>\n",
              "      <td>NaN</td>\n",
              "    </tr>\n",
              "  </tbody>\n",
              "</table>\n",
              "<p>4211 rows × 7 columns</p>\n",
              "</div>"
            ],
            "text/plain": [
              "                                            topic  ...  label\n",
              "0     We should abandon the use of school uniform  ...    1.0\n",
              "1     We should abandon the use of school uniform  ...    0.0\n",
              "2     We should abandon the use of school uniform  ...    0.0\n",
              "3     We should abandon the use of school uniform  ...    NaN\n",
              "4     We should abandon the use of school uniform  ...    NaN\n",
              "...                                           ...  ...    ...\n",
              "4206             We should end affirmative action  ...    NaN\n",
              "4207             We should end affirmative action  ...    1.0\n",
              "4208             We should end affirmative action  ...    NaN\n",
              "4209             We should end affirmative action  ...    0.0\n",
              "4210             We should end affirmative action  ...    NaN\n",
              "\n",
              "[4211 rows x 7 columns]"
            ]
          },
          "metadata": {},
          "execution_count": 23
        }
      ]
    },
    {
      "cell_type": "code",
      "metadata": {
        "colab": {
          "base_uri": "https://localhost:8080/"
        },
        "id": "s1jVQiB7-Ajl",
        "outputId": "5ed138a2-d434-40a5-f6e4-446f35b1b9db"
      },
      "source": [
        "# list of topics from the dataframe\n",
        "topic_list = df_topic_key_point_argument_label['topic'].unique().tolist()\n",
        "\n",
        "topic_list"
      ],
      "execution_count": 24,
      "outputs": [
        {
          "output_type": "execute_result",
          "data": {
            "text/plain": [
              "['We should abandon the use of school uniform',\n",
              " 'We should abolish the right to keep and bear arms',\n",
              " 'We should adopt an austerity regime',\n",
              " 'We should end affirmative action']"
            ]
          },
          "metadata": {},
          "execution_count": 24
        }
      ]
    },
    {
      "cell_type": "code",
      "metadata": {
        "colab": {
          "base_uri": "https://localhost:8080/"
        },
        "id": "ZzPTVL9GHoYp",
        "outputId": "75c0fd3d-602f-4e38-c00a-d81af089f739"
      },
      "source": [
        "df_topic_key_point_argument_label[(df_topic_key_point_argument_label['topic']=='We should abandon the use of school uniform') &\n",
        "                                  (df_topic_key_point_argument_label['stance']==1)]['key_point'].unique().tolist()"
      ],
      "execution_count": 36,
      "outputs": [
        {
          "output_type": "execute_result",
          "data": {
            "text/plain": [
              "[\"School uniform is harming the student's self expression\",\n",
              " 'School uniforms are expensive',\n",
              " 'School uniforms are often uncomfortable/sexist',\n",
              " 'School uniform harms learning/creativity',\n",
              " 'School uniforms increase conformity or harm individuality']"
            ]
          },
          "metadata": {},
          "execution_count": 36
        }
      ]
    },
    {
      "cell_type": "code",
      "metadata": {
        "colab": {
          "base_uri": "https://localhost:8080/"
        },
        "id": "mrPZL3ny0AhN",
        "outputId": "d8967740-a17f-4154-ec75-cf670c644156"
      },
      "source": [
        "df_topic_key_point_argument_label[(df_topic_key_point_argument_label['topic']=='We should abandon the use of school uniform') &\n",
        "                                  (df_topic_key_point_argument_label['stance']==1)]['argument'].unique().tolist()"
      ],
      "execution_count": 37,
      "outputs": [
        {
          "output_type": "execute_result",
          "data": {
            "text/plain": [
              "[\"A real education is about giving students the tools to learn, think, and express themselves; dictating to them what to wear sends a strong message that we don't trust them to think on their own.\",\n",
              " 'children express themselves through the clothes they wear and should be able to do this at school',\n",
              " 'children should be able to dress as they wish, within reason, at school rather than being restricted from expressing themselves through their clothes.',\n",
              " 'children should be allowed to express themselves',\n",
              " 'forcing children into wearing school uniforms shows our children that they cannot think as individuals and must conform to societies way of thinking.',\n",
              " \"freedom of expression extends to the right to choose one's own clothing and a school uniform prevents this choice.\",\n",
              " 'giving children freedom to choose what they want to wear is a fundamental right and enables them to feel comfortable in their attire rather than constrained by all wearing the same clothing.',\n",
              " 'if you are not required to wear a uniform, you are free to choose clothing styles that are more favorable to your body type and coloring, which allows you to look your best',\n",
              " 'it is not fair to not allow children to express their personality through dress as long as it is appropriate.',\n",
              " \"Kids having to wear school uniforms is not fair because it doesn't allow individuality\",\n",
              " 'kids should be able to express them selves with their clothing',\n",
              " \"kids should be allowed to wear what is comfortable and be able to express themselves. we can have a dress policy to make sure it's appropriate. there is no need for everyone to wear uniforms.\",\n",
              " 'making kids wear uniforms that are all the same is a sign of radicalism.',\n",
              " 'Mandatory school uniforms create an authoritarian atmosphere in the school which is bad for students development.',\n",
              " 'many students argue that they lose their self-identity because of school uniforms',\n",
              " 'Minors have very few rights as it is, why take away their freedom of expression when there are no harms in allowing it?',\n",
              " 'Most students do not want school uniforms, they should not be mandatory.',\n",
              " 'people like to express who they are through clothing & collective uniforms stifles this form of personal expression',\n",
              " \"people should be able to wear whatever they want. a school uniform stunts students' creativity.\",\n",
              " 'school unforms stifle freedom of expression. they can be costly and make circumstances difficult for those on a budget',\n",
              " 'school uniform does not allow for individuals to express themselves and grow as a person',\n",
              " 'school uniform is a useless and expensive way to define pupils',\n",
              " 'school uniform is expensive and may mean families cannot afford other essentials after paying for uniform, or they may have to buy substandard uniform which opens children to discrimination.',\n",
              " 'school uniform is unaffordable for many single parents and should be abandoned.',\n",
              " 'school uniform limits the ability of young people to develop their identity and express who they are',\n",
              " 'school uniform policies enforce yet more financial burdens on parents, are often overpriced and only available in a select few outlets which act as supply monopolies.',\n",
              " 'school uniform prevents students from learning to have their own sense of fashion and individuality.',\n",
              " 'school uniform requirements curtail any individual creativity and self-expression at an important age of self-discovery and should be abandoned.',\n",
              " 'school uniform should be abolished because it is very expensive',\n",
              " 'School uniforms are a false sense of solvency that prevent educators from finding real solutions for class divides in schools and tension in classrooms.',\n",
              " \"school uniforms are an expense that many families can't afford. there are plenty of ways to get very cheap clothing, but discounted uniforms are more difficult to obtain.\",\n",
              " 'school uniforms are an outdated idea. i wore a uniform over fifty years ago. a wool skirt and white blouse. hot on warm days and cold legs walking in the snow wearing a skirt.',\n",
              " 'school uniforms are another cost impost on lower income and disadvantaged people and should be ended.',\n",
              " 'school uniforms are expensive and puts an undue burden on the parents of the students.',\n",
              " 'School uniforms are expensive for the school and take money from other important programs.',\n",
              " 'school uniforms are expensive to buy',\n",
              " 'school uniforms are often unfairly gendered and perpetuate gender roles as a result',\n",
              " 'school uniforms are restrictive of choice for pupils and should be ended.',\n",
              " 'school uniforms are restrictive towards freedom of expression',\n",
              " 'school uniforms are unflattering, uncomfortable, and expensive.',\n",
              " 'school uniforms are very expensive and some families cannot afford to buy them.',\n",
              " \"School uniforms can be less comfortable than students' regular clothes.\",\n",
              " 'School uniforms can be sexist and enforce gender stereotypes.',\n",
              " 'School uniforms can be too expensive for some parents.',\n",
              " 'school uniforms can cause a problem for children and teens who have questions about their gender identification',\n",
              " 'school uniforms can stop students from being able to exhibit their personalities through their clothes.',\n",
              " 'school uniforms cause undue financial hardships by forcing parents to buy a separate set of clothes just for school',\n",
              " 'School uniforms compromise free public school education by creating an additional cost.',\n",
              " 'school uniforms cost a lot and might not be affordable for everyone',\n",
              " 'school uniforms cost too much for families who cannot afford them',\n",
              " 'school uniforms de-individuate pupils and reduce their ability to express themselves which may reduce their ability to perform to their best in school so uniform should be abandoned',\n",
              " 'school uniforms do not allow a student to be an individual in regards to clothing and individuality is an important lesson that children need.',\n",
              " 'school uniforms do not allow kids to express themselves through their clothes',\n",
              " 'school uniforms does nothing to decrease the amount of violence occurring in schools.',\n",
              " \"school uniforms don't let students be who they are\",\n",
              " \"school uniforms don't let young people express their individuality\",\n",
              " 'school uniforms enforce conformity, which harms the creative instincts of young people',\n",
              " 'school uniforms give kids no personal freedom and should be abandoned.',\n",
              " 'School uniforms have no beneficial effect on student behavior.',\n",
              " 'school uniforms have no positive effect on behavior and academic performance and highlight the socioeconomic disparities they are intended to attend',\n",
              " 'school uniforms impose an additional cost burden on families from disadvantaged backgrounds who may be struggling',\n",
              " 'school uniforms interfere with the individuality of students and force them to conform.',\n",
              " 'School uniforms keep children from being able to express themselves through their clothing choices.',\n",
              " 'school uniforms keep children from expressing themselves.',\n",
              " \"school uniforms limit a student's individuality and expression of their personality and therefore should be abandoned.\",\n",
              " \"school uniforms limit the ability to express one's self.\",\n",
              " 'school uniforms place an unneeded financial burden on parents that are already paying large sums for private schools besides the fact that dress clothes are uncomfortable and add distraction to learning.',\n",
              " 'School uniforms prevent students from being able to express themselves by forcing everyone to dress homogeneously, this is bad for mental health and personal development.',\n",
              " 'school uniforms put an unneeded burden on poor families wherein they have to purchase uniforms yearly which are often not found in thrift or used environments and still provide other clothing on top.',\n",
              " 'School uniforms reinforce a gender binary by often requiring women to wear traditionally feminine clothing like skirts and dresses and men to wear traditionally masculine pants.',\n",
              " 'school uniforms should not be required to wear in schools because it takes away a kids freedom of expression',\n",
              " \"school uniforms shouldn't be used anymore because they can be expensive for some parents\",\n",
              " 'school uniforms simply stifle children and teach them to conform, which is unhealthy for developing minds.',\n",
              " 'school uniforms stifle freedom of expression',\n",
              " 'school uniforms stifle the ability of kids to be creative in how they dress and express themselves.',\n",
              " \"school uniforms stunt young peoples' creativity.\",\n",
              " \"School uniforms suppress students' freedom of expression, particularly if they otherwise wear religious garb.\",\n",
              " \"school uniforms suppress the students' freedom of expression, which could cause them to act disruptively\",\n",
              " 'school uniforms take away a students individuality.',\n",
              " 'School uniforms violate the right to freedom of expression. Students should be allowed to express themselves through the clothes they wear.',\n",
              " \"Since school uniforms are uncomfortable, they distract from student's being able to learn the way they can when wearing their own clothes.\",\n",
              " 'some families cannot afford school uniforms. this places an unneeded expense on some struggling families.',\n",
              " 'sometimes kids wants to wear what they like and must wearing school uniform making impossible for them.',\n",
              " 'students should be able to express themselves within reason and not be subject to what a third party says is proper',\n",
              " 'students should be allowed to wear the clothes they feel comfortable in, not forced to wear all the same uniforms',\n",
              " 'the imposition of a uniform often involves a school spending inordinate amounts of time enforcing every single minute element of detail, and punishing all infringements, to the detriment of actual teaching.',\n",
              " 'the school uniform does not allow for the uniqueness and expression of the individual',\n",
              " 'the school uniform is a big expense for some families and abandoning it would enable these families to save money.',\n",
              " 'the school uniform kills individuality and is very outdated.',\n",
              " \"the school uniform minimizes students' creative thinking. we must eliminate the use of school uniforms to achieve better student performance in young people\",\n",
              " 'the school uniform pigeonholes students and limits their creative ability. education does not depend on a uniform. eliminating the school uniform would lead to an improvement in student performance',\n",
              " \"the school uniform stifles children's creativity at a very crucial point in their lives.\",\n",
              " 'the uniforms limit the freedom of expression of the youngest and could be counterproductive in their stage of development',\n",
              " 'the uniforms violate the right to free expression by restricting the freedom to decide how to dress',\n",
              " 'the use of school uniforms ruins the students ability to express their individuality.',\n",
              " 'the use of the school uniform takes away from the individuality of each student and therefore should be abandoned',\n",
              " \"Uniforms don't solve the problems that exist in the classrooms; they don't stop kids from picking on each other for any number of reasons, so why bother with them?\",\n",
              " 'we should abandon school uniform because everyone has the right to be an individual and express themselves.',\n",
              " \"we should abandon school uniforms because they stifle creativity and it's a pain to have to wash school uniforms every night because they will get dirty and sweaty.\",\n",
              " \"We should abandon the use of school uniform as it is old-fashioned and doesn't reflect young people's clothing choices.\",\n",
              " 'We should abandon the use of school uniform as it stifles creativity and personal freedom.',\n",
              " 'We should abandon the use of school uniform because children are still very aware of financial gaps- communication is the answer to this, not \"dressing up\"- this only create a false sense of equality.',\n",
              " 'we should abandon the use of school uniform because children should be able to have some freedom to pick what they want to wear to school',\n",
              " 'we should abandon the use of school uniform because children should be able to have some say in what they wear to school not have clothing forced on them',\n",
              " 'we should abandon the use of school uniform because it stops kids fro being able to express themselves through what they wear',\n",
              " 'We should abandon the use of school uniform since it tries to blur the differences between pupils, instead of celebrating their heterogeneity and teaching them self pride.',\n",
              " 'we should abandon the use of school uniform since one should be allowed to express their individuality by the clothes they were.',\n",
              " 'we should abandon the use of school uniform so school children have the freedom to wear what they want to wear in accordance with the school rules',\n",
              " 'we should abandon the use of school uniforms because if serves no purpose other than provide income to the company that produces the uniform.',\n",
              " 'we should abandon the use of school uniforms because it prohibits students from expressing their individuality and what makes them unique.',\n",
              " 'we should abandon the use of school uniforms because they can be expensive and place undue hardship on families that are already struglling',\n",
              " 'we should abandon the use of the school uniform as it only stifles ones right to expression.',\n",
              " 'we should abandon usage of school uniforms because they stifle individuality, creativity, and are annoying to clean them all the time.',\n",
              " 'we should allow young people to express their individualism.',\n",
              " 'we should because students should be able to wear what they want.',\n",
              " 'we should not force parents with limited funds to buy a whole separate wardrobe for their children to go to school',\n",
              " 'wearing a school uniform can restrict students ability to show their true identity.']"
            ]
          },
          "metadata": {},
          "execution_count": 37
        }
      ]
    },
    {
      "cell_type": "code",
      "metadata": {
        "id": "797LB5SM0Aj-"
      },
      "source": [
        ""
      ],
      "execution_count": 14,
      "outputs": []
    },
    {
      "cell_type": "code",
      "metadata": {
        "colab": {
          "base_uri": "https://localhost:8080/"
        },
        "id": "8BTVyWdt_scf",
        "outputId": "94658aff-94c8-459d-ffce-e4ac8589795d"
      },
      "source": [
        "!pip install -U sentence-transformers"
      ],
      "execution_count": 15,
      "outputs": [
        {
          "output_type": "stream",
          "name": "stdout",
          "text": [
            "Requirement already satisfied: sentence-transformers in /usr/local/lib/python3.7/dist-packages (2.1.0)\n",
            "Requirement already satisfied: scipy in /usr/local/lib/python3.7/dist-packages (from sentence-transformers) (1.4.1)\n",
            "Requirement already satisfied: torchvision in /usr/local/lib/python3.7/dist-packages (from sentence-transformers) (0.10.0+cu111)\n",
            "Requirement already satisfied: numpy in /usr/local/lib/python3.7/dist-packages (from sentence-transformers) (1.19.5)\n",
            "Requirement already satisfied: torch>=1.6.0 in /usr/local/lib/python3.7/dist-packages (from sentence-transformers) (1.9.0+cu111)\n",
            "Requirement already satisfied: huggingface-hub in /usr/local/lib/python3.7/dist-packages (from sentence-transformers) (0.0.19)\n",
            "Requirement already satisfied: nltk in /usr/local/lib/python3.7/dist-packages (from sentence-transformers) (3.2.5)\n",
            "Requirement already satisfied: sentencepiece in /usr/local/lib/python3.7/dist-packages (from sentence-transformers) (0.1.96)\n",
            "Requirement already satisfied: tokenizers>=0.10.3 in /usr/local/lib/python3.7/dist-packages (from sentence-transformers) (0.10.3)\n",
            "Requirement already satisfied: tqdm in /usr/local/lib/python3.7/dist-packages (from sentence-transformers) (4.62.3)\n",
            "Requirement already satisfied: transformers<5.0.0,>=4.6.0 in /usr/local/lib/python3.7/dist-packages (from sentence-transformers) (4.11.3)\n",
            "Requirement already satisfied: scikit-learn in /usr/local/lib/python3.7/dist-packages (from sentence-transformers) (0.22.2.post1)\n",
            "Requirement already satisfied: typing-extensions in /usr/local/lib/python3.7/dist-packages (from torch>=1.6.0->sentence-transformers) (3.7.4.3)\n",
            "Requirement already satisfied: pyyaml>=5.1 in /usr/local/lib/python3.7/dist-packages (from transformers<5.0.0,>=4.6.0->sentence-transformers) (6.0)\n",
            "Requirement already satisfied: importlib-metadata in /usr/local/lib/python3.7/dist-packages (from transformers<5.0.0,>=4.6.0->sentence-transformers) (4.8.1)\n",
            "Requirement already satisfied: requests in /usr/local/lib/python3.7/dist-packages (from transformers<5.0.0,>=4.6.0->sentence-transformers) (2.23.0)\n",
            "Requirement already satisfied: sacremoses in /usr/local/lib/python3.7/dist-packages (from transformers<5.0.0,>=4.6.0->sentence-transformers) (0.0.46)\n",
            "Requirement already satisfied: regex!=2019.12.17 in /usr/local/lib/python3.7/dist-packages (from transformers<5.0.0,>=4.6.0->sentence-transformers) (2019.12.20)\n",
            "Requirement already satisfied: filelock in /usr/local/lib/python3.7/dist-packages (from transformers<5.0.0,>=4.6.0->sentence-transformers) (3.3.0)\n",
            "Requirement already satisfied: packaging>=20.0 in /usr/local/lib/python3.7/dist-packages (from transformers<5.0.0,>=4.6.0->sentence-transformers) (21.0)\n",
            "Requirement already satisfied: pyparsing>=2.0.2 in /usr/local/lib/python3.7/dist-packages (from packaging>=20.0->transformers<5.0.0,>=4.6.0->sentence-transformers) (2.4.7)\n",
            "Requirement already satisfied: zipp>=0.5 in /usr/local/lib/python3.7/dist-packages (from importlib-metadata->transformers<5.0.0,>=4.6.0->sentence-transformers) (3.6.0)\n",
            "Requirement already satisfied: six in /usr/local/lib/python3.7/dist-packages (from nltk->sentence-transformers) (1.15.0)\n",
            "Requirement already satisfied: urllib3!=1.25.0,!=1.25.1,<1.26,>=1.21.1 in /usr/local/lib/python3.7/dist-packages (from requests->transformers<5.0.0,>=4.6.0->sentence-transformers) (1.24.3)\n",
            "Requirement already satisfied: certifi>=2017.4.17 in /usr/local/lib/python3.7/dist-packages (from requests->transformers<5.0.0,>=4.6.0->sentence-transformers) (2021.5.30)\n",
            "Requirement already satisfied: idna<3,>=2.5 in /usr/local/lib/python3.7/dist-packages (from requests->transformers<5.0.0,>=4.6.0->sentence-transformers) (2.10)\n",
            "Requirement already satisfied: chardet<4,>=3.0.2 in /usr/local/lib/python3.7/dist-packages (from requests->transformers<5.0.0,>=4.6.0->sentence-transformers) (3.0.4)\n",
            "Requirement already satisfied: joblib in /usr/local/lib/python3.7/dist-packages (from sacremoses->transformers<5.0.0,>=4.6.0->sentence-transformers) (1.0.1)\n",
            "Requirement already satisfied: click in /usr/local/lib/python3.7/dist-packages (from sacremoses->transformers<5.0.0,>=4.6.0->sentence-transformers) (7.1.2)\n",
            "Requirement already satisfied: pillow>=5.3.0 in /usr/local/lib/python3.7/dist-packages (from torchvision->sentence-transformers) (7.1.2)\n"
          ]
        }
      ]
    },
    {
      "cell_type": "code",
      "metadata": {
        "id": "uRDl7CqcNQPx"
      },
      "source": [
        ""
      ],
      "execution_count": null,
      "outputs": []
    },
    {
      "cell_type": "code",
      "metadata": {
        "id": "8na2J-T-NQSi"
      },
      "source": [
        ""
      ],
      "execution_count": null,
      "outputs": []
    },
    {
      "cell_type": "code",
      "metadata": {
        "id": "YaxJTMsvNQWP"
      },
      "source": [
        ""
      ],
      "execution_count": null,
      "outputs": []
    },
    {
      "cell_type": "code",
      "metadata": {
        "id": "lMKxOPA6NQZZ"
      },
      "source": [
        ""
      ],
      "execution_count": null,
      "outputs": []
    },
    {
      "cell_type": "code",
      "metadata": {
        "id": "Y_QHPjhTNQcQ"
      },
      "source": [
        ""
      ],
      "execution_count": null,
      "outputs": []
    },
    {
      "cell_type": "code",
      "metadata": {
        "id": "jqObG-3jNQfl"
      },
      "source": [
        ""
      ],
      "execution_count": null,
      "outputs": []
    },
    {
      "cell_type": "code",
      "metadata": {
        "id": "qjh6NUsaNQjn"
      },
      "source": [
        ""
      ],
      "execution_count": null,
      "outputs": []
    },
    {
      "cell_type": "code",
      "metadata": {
        "id": "WBZ1o6Qsq3kB"
      },
      "source": [
        "from sentence_transformers import SentenceTransformer, util\n",
        "\n",
        "# Load the BERT model. Various models trained on Natural Language Inference (NLI) https://github.com/UKPLab/sentence-transformers/blob/master/docs/pretrained-models/nli-models.md and \n",
        "# Semantic Textual Similarity are available https://github.com/UKPLab/sentence-transformers/blob/master/docs/pretrained-models/sts-models.md\n",
        "\n",
        "model_SBERT = SentenceTransformer('bert-base-nli-mean-tokens')\n",
        "#model = SentenceTransformer('nli-deberta-base')"
      ],
      "execution_count": 50,
      "outputs": []
    },
    {
      "cell_type": "code",
      "metadata": {
        "colab": {
          "base_uri": "https://localhost:8080/"
        },
        "id": "-e6_xbpbPhlX",
        "outputId": "d84098d5-b9db-4c53-e9a7-0ab8937a6165"
      },
      "source": [
        "# A corpus is a list with documents split by sentences.\n",
        "\n",
        "sentences = [\"School uniform is harming the student's self expression\",\n",
        "             'School uniforms are expensive',\n",
        "             'School uniforms are often uncomfortable/sexist',\n",
        "             'School uniform harms learning/creativity',\n",
        "             'School uniforms increase conformity or harm individuality']\n",
        "\n",
        "\n",
        "# Each sentence is encoded as a 1-D vector with 78 columns\n",
        "sentence_embeddings = model_SBERT.encode(sentences)\n",
        "\n",
        "print('Sample BERT embedding vector - length', len(sentence_embeddings[0]))\n",
        "\n",
        "#print('Sample BERT embedding vector - note includes negative values', sentence_embeddings[0])"
      ],
      "execution_count": 51,
      "outputs": [
        {
          "output_type": "stream",
          "name": "stdout",
          "text": [
            "Sample BERT embedding vector - length 768\n"
          ]
        }
      ]
    },
    {
      "cell_type": "code",
      "metadata": {
        "colab": {
          "base_uri": "https://localhost:8080/"
        },
        "id": "WIdSO9XK_zq8",
        "outputId": "797b5116-76aa-4833-a0de-6732864c06a9"
      },
      "source": [
        "query = \"A real education is about giving students the tools to learn, think, and express themselves; dictating to them what to wear sends a strong message that we don't trust them to think on their own.\" #@param {type: 'string'}\n",
        "\n",
        "queries = [query]\n",
        "query_embeddings = model_SBERT.encode(queries)\n",
        "\n",
        "# Find the closest 5 sentences of the corpus for each query sentence based on cosine similarity\n",
        "number_top_matches = 5 #@param {type: \"number\"}\n",
        "\n",
        "print(\"Semantic Search Results\")\n",
        "\n",
        "for query, query_embedding in zip(queries, query_embeddings):\n",
        "    distances = scipy.spatial.distance.cdist([query_embedding], sentence_embeddings, \"cosine\")[0]\n",
        "\n",
        "    results = zip(range(len(distances)), distances)\n",
        "    results = sorted(results, key=lambda x: x[1])\n",
        "\n",
        "    print(\"\\n\\n======================\\n\\n\")\n",
        "    print(\"Argument:\", query)\n",
        "    print(\"\\nTop 5 most similar key_points in corpus:\")\n",
        "\n",
        "    for idx, distance in results[0:number_top_matches]:\n",
        "        print(sentences[idx].strip(), \"(Cosine Score: %.4f)\" % (1-distance))"
      ],
      "execution_count": 52,
      "outputs": [
        {
          "output_type": "stream",
          "name": "stdout",
          "text": [
            "Semantic Search Results\n",
            "\n",
            "\n",
            "======================\n",
            "\n",
            "\n",
            "Argument: A real education is about giving students the tools to learn, think, and express themselves; dictating to them what to wear sends a strong message that we don't trust them to think on their own.\n",
            "\n",
            "Top 5 most similar key_points in corpus:\n",
            "School uniform is harming the student's self expression (Cosine Score: 0.6410)\n",
            "School uniform harms learning/creativity (Cosine Score: 0.6322)\n",
            "School uniforms increase conformity or harm individuality (Cosine Score: 0.5155)\n",
            "School uniforms are often uncomfortable/sexist (Cosine Score: 0.4935)\n",
            "School uniforms are expensive (Cosine Score: 0.4477)\n"
          ]
        }
      ]
    }
  ]
}